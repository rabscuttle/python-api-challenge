{
 "cells": [
  {
   "cell_type": "markdown",
   "metadata": {},
   "source": [
    "# WeatherPy\n",
    "----\n",
    "\n",
    "#### Note\n",
    "* Instructions have been included for each segment. You do not have to follow them exactly, but they are included to help you think through the steps."
   ]
  },
  {
   "cell_type": "code",
   "execution_count": 1,
   "metadata": {
    "scrolled": true
   },
   "outputs": [],
   "source": [
    "# Dependencies and Setup\n",
    "import matplotlib.pyplot as plt\n",
    "import pandas as pd\n",
    "import numpy as np\n",
    "import requests\n",
    "import time\n",
    "from scipy.stats import linregress\n",
    "\n",
    "# Import API key\n",
    "from config import weather_api_key, g_key\n",
    "\n",
    "# Incorporated citipy to determine city based on latitude and longitude\n",
    "from citipy import citipy\n",
    "\n",
    "# Output File (CSV)\n",
    "output_data_file = \"output_data/cities.csv\"\n",
    "\n",
    "# Range of latitudes and longitudes\n",
    "lat_range = (-90, 90)\n",
    "lng_range = (-180, 180)"
   ]
  },
  {
   "cell_type": "markdown",
   "metadata": {},
   "source": [
    "## Generate Cities List"
   ]
  },
  {
   "cell_type": "code",
   "execution_count": 2,
   "metadata": {},
   "outputs": [
    {
     "data": {
      "text/plain": [
       "588"
      ]
     },
     "execution_count": 2,
     "metadata": {},
     "output_type": "execute_result"
    }
   ],
   "source": [
    "# List for holding lat_lngs and cities\n",
    "lat_lngs = []\n",
    "cities = []\n",
    "\n",
    "# Create a set of random lat and lng combinations\n",
    "lats = np.random.uniform(lat_range[0], lat_range[1], size=1500)\n",
    "lngs = np.random.uniform(lng_range[0], lng_range[1], size=1500)\n",
    "lat_lngs = zip(lats, lngs)\n",
    "\n",
    "# Identify nearest city for each lat, lng combination\n",
    "for lat_lng in lat_lngs:\n",
    "    city = citipy.nearest_city(lat_lng[0], lat_lng[1]).city_name\n",
    "    \n",
    "    # If the city is unique, then add it to a our cities list\n",
    "    if city not in cities:\n",
    "        cities.append(city)\n",
    "\n",
    "# Print the city count to confirm sufficient count\n",
    "len(cities)"
   ]
  },
  {
   "cell_type": "markdown",
   "metadata": {},
   "source": [
    "### Perform API Calls\n",
    "* Perform a weather check on each city using a series of successive API calls.\n",
    "* Include a print log of each city as it'sbeing processed (with the city number and city name).\n"
   ]
  },
  {
   "cell_type": "code",
   "execution_count": 3,
   "metadata": {},
   "outputs": [
    {
     "name": "stdout",
     "output_type": "stream",
     "text": [
      "Processing Record 1 | the valley\n",
      "Processing Record 2 | coihaique\n",
      "Processing Record 3 | cape town\n",
      "Processing Record 4 | hermanus\n",
      "Processing Record 5 | thompson\n",
      "Processing Record 6 | creel\n",
      "Processing Record 7 | dhidhdhoo\n",
      "Processing Record 8 | provideniya\n",
      "Processing Record 9 | puerto ayora\n",
      "Processing Record 10 | rawah\n",
      "Processing Record 11 | kapaa\n",
      "Processing Record 12 | albany\n",
      "Processing Record 13 | punta arenas\n",
      "Processing Record 14 | ahipara\n",
      "Processing Record 15 | saint-pierre\n",
      "Processing Record 16 | mahebourg\n",
      "Processing Record 17 | hofn\n",
      "Processing Record 18 | sao filipe\n",
      "Processing Record 19 | tilichiki\n",
      "Processing Record 20 | georgetown\n",
      "Processing Record 21 | whitehorse\n",
      "Processing Record 22 | vaini\n",
      "Processing Record 23 | ushuaia\n",
      "Processing Record 24 | hilo\n",
      "Processing Record 25 | saint george\n",
      "Processing Record 26 | samarai\n",
      "Processing Record 27 | zima\n",
      "Processing Record 28 | avarua\n",
      "Processing Record 29 | mar del plata\n",
      "Processing Record 30 | qaanaaq\n",
      "Processing Record 31 | atuona\n",
      "Processing Record 32 | caravelas\n",
      "Processing Record 33 | nikolskoye\n",
      "Processing Record 34 | bluff\n",
      "Processing Record 35 | portland\n",
      "Processing Record 36 | chokurdakh\n",
      "Processing Record 37 | rikitea\n",
      "Processing Record 38 | port elizabeth\n",
      "Processing Record 39 | hamilton\n",
      "Processing Record 40 | padang\n",
      "Processing Record 41 | port alfred\n",
      "Processing Record 42 | new norfolk\n",
      "Processing Record 43 | moose factory\n",
      "Processing Record 44 | butaritari\n",
      "Processing Record 45 | mataura\n",
      "Processing Record 46 | souillac\n",
      "Processing Record 47 | arraial do cabo\n",
      "Processing Record 48 | san cristobal\n",
      "Processing Record 49 | airai\n",
      "Processing Record 50 | cidreira\n",
      "Processing Record 51 | port lincoln\n",
      "Processing Record 52 | kodiak\n",
      "Processing Record 53 | east london\n",
      "Processing Record 54 | batagay-alyta\n",
      "Processing Record 55 | kuusamo\n",
      "Processing Record 56 | kothi\n",
      "Processing Record 57 | edd\n",
      "Processing Record 58 | shahrud\n",
      "Processing Record 59 | avera\n",
      "Processing Record 60 | parana\n",
      "Processing Record 61 | carnarvon\n",
      "Processing Record 62 | nyurba\n",
      "Processing Record 63 | roma\n",
      "Processing Record 64 | sobolevo\n",
      "Processing Record 65 | agadez\n",
      "Processing Record 66 | saint-philippe\n",
      "Processing Record 67 | busselton\n",
      "Processing Record 68 | turukhansk\n",
      "Processing Record 69 | santa isabel\n",
      "Processing Record 70 | narsaq\n",
      "Processing Record 71 | lazaro cardenas\n",
      "Processing Record 72 | rio gallegos\n",
      "Processing Record 73 | victoria\n",
      "Processing Record 74 | korla\n",
      "Processing Record 75 | pangnirtung\n",
      "Processing Record 76 | lata\n",
      "Processing Record 77 | esperance\n",
      "Processing Record 78 | geraldton\n",
      "Processing Record 79 | barrow\n",
      "Processing Record 80 | lorengau\n",
      "Processing Record 81 | sabang\n",
      "Processing Record 82 | hithadhoo\n",
      "Processing Record 83 | mbanza-ngungu\n",
      "Processing Record 84 | tubuala\n",
      "Processing Record 85 | clyde river\n",
      "Processing Record 86 | laguna\n",
      "Processing Record 87 | isangel\n",
      "Processing Record 88 | kavaratti\n",
      "Processing Record 89 | tiksi\n",
      "Processing Record 90 | kavieng\n",
      "Processing Record 91 | buraydah\n",
      "Processing Record 92 | rawson\n",
      "Processing Record 93 | oranjestad\n",
      "Processing Record 94 | khatanga\n",
      "Processing Record 95 | bazarnyy karabulak\n",
      "Processing Record 96 | ruteng\n",
      "Processing Record 97 | razole\n",
      "Processing Record 98 | nogliki\n",
      "Processing Record 99 | westport\n",
      "Processing Record 100 | mhasla\n",
      "Processing Record 101 | san patricio\n",
      "Processing Record 102 | hasaki\n",
      "Processing Record 103 | zhovtneve\n",
      "Processing Record 104 | maria chiquita\n",
      "Processing Record 105 | ipixuna\n",
      "Processing Record 106 | sumbal\n",
      "Processing Record 107 | dunedin\n",
      "Processing Record 108 | bredasdorp\n",
      "Processing Record 109 | bambous virieux\n",
      "Processing Record 110 | namibe\n",
      "Processing Record 111 | hovd\n",
      "Processing Record 112 | severo-kurilsk\n",
      "Processing Record 113 | lons-le-saunier\n",
      "Processing Record 114 | mehamn\n",
      "Processing Record 115 | buala\n",
      "Processing Record 116 | lavumisa\n",
      "Processing Record 117 | chuy\n",
      "Processing Record 118 | berlevag\n",
      "Processing Record 119 | desbiens\n",
      "Processing Record 120 | shingu\n",
      "Processing Record 121 | aksu\n",
      "Processing Record 122 | paternion\n",
      "Processing Record 123 | tiznit\n",
      "Processing Record 124 | dikson\n",
      "Processing Record 125 | lautaro\n",
      "Processing Record 126 | kuching\n",
      "Processing Record 127 | yellowknife\n",
      "Processing Record 128 | winslow\n",
      "Processing Record 129 | port blair\n",
      "Processing Record 130 | touros\n",
      "Processing Record 131 | komsomolskiy\n",
      "Processing Record 132 | upernavik\n",
      "Processing Record 133 | bubaque\n",
      "Processing Record 134 | santa cruz\n",
      "Processing Record 135 | waren\n",
      "Processing Record 136 | bukachacha\n",
      "Processing Record 137 | miri\n",
      "Processing Record 138 | ponta do sol\n",
      "Processing Record 139 | iqaluit\n",
      "Processing Record 140 | bitung\n",
      "Processing Record 141 | gazli\n",
      "Processing Record 142 | camocim\n",
      "Processing Record 143 | necochea\n",
      "Processing Record 144 | barguzin\n",
      "Processing Record 145 | hambantota\n",
      "Processing Record 146 | kitakata\n",
      "Processing Record 147 | tuktoyaktuk\n",
      "Processing Record 148 | bathsheba\n",
      "Processing Record 149 | lulea\n",
      "Processing Record 150 | jhalawar\n",
      "Processing Record 151 | waipawa\n",
      "Processing Record 152 | krasnoarmeysk\n",
      "Processing Record 153 | tasiilaq\n",
      "Processing Record 154 | ambon\n",
      "Processing Record 155 | atar\n",
      "Processing Record 156 | zabol\n",
      "Processing Record 157 | torquay\n",
      "Processing Record 158 | voh\n",
      "Processing Record 159 | kargasok\n",
      "Processing Record 160 | luganville\n",
      "Processing Record 161 | galveston\n",
      "Processing Record 162 | vijapur\n",
      "Processing Record 163 | nanortalik\n",
      "Processing Record 164 | ust-tsilma\n",
      "Processing Record 165 | llangefni\n",
      "Processing Record 166 | tommot\n",
      "Processing Record 167 | jamestown\n",
      "Processing Record 168 | auki\n",
      "Processing Record 169 | novoagansk\n",
      "Processing Record 170 | talnakh\n",
      "Processing Record 171 | deogarh\n",
      "Processing Record 172 | buenos aires\n",
      "Processing Record 173 | ilulissat\n",
      "Processing Record 174 | comodoro rivadavia\n",
      "Processing Record 175 | tjome\n",
      "Processing Record 176 | kolokani\n",
      "Processing Record 177 | dawei\n",
      "Processing Record 178 | tuatapere\n",
      "Processing Record 179 | turayf\n",
      "Processing Record 180 | faanui\n",
      "Processing Record 181 | aksarka\n",
      "Processing Record 182 | fowa\n",
      "Processing Record 183 | matara\n",
      "Processing Record 184 | pangody\n",
      "Processing Record 185 | bengkulu\n",
      "Processing Record 186 | contamana\n",
      "Processing Record 187 | saskylakh\n",
      "Processing Record 188 | santarem\n",
      "Processing Record 189 | sitka\n",
      "Processing Record 190 | beringovskiy\n",
      "Processing Record 191 | chara\n",
      "Processing Record 192 | pisco\n",
      "Processing Record 193 | castro\n",
      "Processing Record 194 | ixtapa\n",
      "Processing Record 195 | kantang\n",
      "Processing Record 196 | awjilah\n",
      "Processing Record 197 | chiguayante\n",
      "Processing Record 198 | kapit\n",
      "Processing Record 199 | inzer\n",
      "Processing Record 200 | mahajanga\n",
      "Processing Record 201 | taoudenni\n",
      "Processing Record 202 | guider\n",
      "Processing Record 203 | hobart\n",
      "Processing Record 204 | andijon\n",
      "Processing Record 205 | ankazoabo\n",
      "Processing Record 206 | pacific grove\n",
      "Processing Record 207 | pantai remis\n",
      "Processing Record 208 | castlerea\n",
      "Processing Record 209 | shakawe\n",
      "Processing Record 210 | santa maria\n",
      "Processing Record 211 | katsuura\n",
      "Processing Record 212 | mosina\n",
      "Processing Record 213 | klaksvik\n",
      "Processing Record 214 | kaitangata\n",
      "Processing Record 215 | mayo\n",
      "Processing Record 216 | bonavista\n",
      "Processing Record 217 | dongsheng\n",
      "Processing Record 218 | wewak\n",
      "Processing Record 219 | ahuimanu\n",
      "Processing Record 220 | guerrero negro\n",
      "Processing Record 221 | port hedland\n",
      "Processing Record 222 | kanigoro\n",
      "Processing Record 223 | jumla\n",
      "Processing Record 224 | aklavik\n",
      "Processing Record 225 | vila velha\n",
      "Processing Record 226 | tekeli\n",
      "Processing Record 227 | tual\n",
      "Processing Record 228 | xichang\n",
      "Processing Record 229 | luorong\n",
      "Processing Record 230 | ankang\n",
      "Processing Record 231 | norman wells\n",
      "Processing Record 232 | saint-georges\n",
      "Processing Record 233 | waingapu\n",
      "Processing Record 234 | sheridan\n",
      "Processing Record 235 | torbay\n",
      "Processing Record 236 | fergus falls\n",
      "Processing Record 237 | vostok\n",
      "Processing Record 238 | ust-nera\n",
      "Processing Record 239 | lasa\n",
      "Processing Record 240 | mitsamiouli\n",
      "Processing Record 241 | yumen\n",
      "Processing Record 242 | sambava\n",
      "Processing Record 243 | ponta delgada\n",
      "Processing Record 244 | oistins\n",
      "Processing Record 245 | bulusan\n",
      "Processing Record 246 | cockburn town\n",
      "Processing Record 247 | cabo san lucas\n",
      "Processing Record 248 | nouakchott\n",
      "Processing Record 249 | manali\n",
      "Processing Record 250 | lompoc\n",
      "Processing Record 251 | namatanai\n",
      "Processing Record 252 | longyearbyen\n"
     ]
    },
    {
     "name": "stdout",
     "output_type": "stream",
     "text": [
      "Processing Record 253 | tiarei\n",
      "Processing Record 254 | verkhovyna\n",
      "Processing Record 255 | cherskiy\n",
      "Processing Record 256 | chapais\n",
      "Processing Record 257 | kahului\n",
      "Processing Record 258 | denpasar\n",
      "Processing Record 259 | dubai\n",
      "Processing Record 260 | zonguldak\n",
      "Processing Record 261 | rondonopolis\n",
      "Processing Record 262 | wahiawa\n",
      "Processing Record 263 | te anau\n",
      "Processing Record 264 | kabakovo\n",
      "Processing Record 265 | raudeberg\n",
      "Processing Record 266 | central point\n",
      "Processing Record 267 | polovinnoye\n",
      "Processing Record 268 | kosonsoy\n",
      "Processing Record 269 | ukiah\n",
      "Processing Record 270 | doka\n",
      "Processing Record 271 | nemuro\n",
      "Processing Record 272 | san fernando\n",
      "Processing Record 273 | state college\n",
      "Processing Record 274 | hobyo\n",
      "Processing Record 275 | broome\n",
      "Processing Record 276 | khasan\n",
      "Processing Record 277 | vao\n",
      "Processing Record 278 | zhigansk\n",
      "Processing Record 279 | vila franca do campo\n",
      "Processing Record 280 | ribeira grande\n",
      "Processing Record 281 | asau\n",
      "Processing Record 282 | manjacaze\n",
      "Processing Record 283 | gigmoto\n",
      "Processing Record 284 | sao joao da barra\n",
      "Processing Record 285 | gilgit\n",
      "Processing Record 286 | bethanien\n",
      "Processing Record 287 | bethel\n",
      "Processing Record 288 | ostrovnoy\n",
      "Processing Record 289 | troitsko-pechorsk\n",
      "Processing Record 290 | margate\n",
      "Processing Record 291 | juba\n",
      "Processing Record 292 | najran\n",
      "Processing Record 293 | biak\n",
      "Processing Record 294 | farsund\n",
      "Processing Record 295 | boa vista\n",
      "Processing Record 296 | nome\n",
      "Processing Record 297 | jacareacanga\n",
      "Processing Record 298 | alice town\n",
      "Processing Record 299 | bowen\n",
      "Processing Record 300 | codrington\n",
      "Processing Record 301 | luderitz\n",
      "Processing Record 302 | oranjemund\n",
      "Processing Record 303 | humberto de campos\n",
      "Processing Record 304 | antalaha\n",
      "Processing Record 305 | samarkand\n",
      "Processing Record 306 | dano\n",
      "Processing Record 307 | panguma\n",
      "Processing Record 308 | melnikovo\n",
      "Processing Record 309 | krasnovishersk\n",
      "Processing Record 310 | ilheus\n",
      "Processing Record 311 | geilo\n",
      "Processing Record 312 | inzhavino\n",
      "Processing Record 313 | itarema\n",
      "Processing Record 314 | kruisfontein\n",
      "Processing Record 315 | hualmay\n",
      "Processing Record 316 | fortuna\n",
      "Processing Record 317 | manaure\n",
      "Processing Record 318 | karak\n",
      "Processing Record 319 | fairbanks\n",
      "Processing Record 320 | suntar\n",
      "Processing Record 321 | verkhnevilyuysk\n",
      "Processing Record 322 | stornoway\n",
      "Processing Record 323 | bandrele\n",
      "Processing Record 324 | angoche\n",
      "Processing Record 325 | ladario\n",
      "Processing Record 326 | valparaiso\n",
      "Processing Record 327 | yaan\n",
      "Processing Record 328 | janow lubelski\n",
      "Processing Record 329 | vardo\n",
      "Processing Record 330 | kholodnyy\n",
      "Processing Record 331 | cascais\n",
      "Processing Record 332 | ati\n",
      "Processing Record 333 | makakilo city\n",
      "Processing Record 334 | flinders\n",
      "Processing Record 335 | belmonte\n",
      "Processing Record 336 | kurilsk\n",
      "Processing Record 337 | kloulklubed\n",
      "Processing Record 338 | jining\n",
      "Processing Record 339 | abu samrah\n",
      "Processing Record 340 | paamiut\n",
      "Processing Record 341 | coffs harbour\n",
      "Processing Record 342 | jefferson city\n",
      "Processing Record 343 | beruwala\n",
      "Processing Record 344 | jalu\n",
      "Processing Record 345 | grand gaube\n",
      "Processing Record 346 | ekibastuz\n",
      "Processing Record 347 | kupang\n",
      "Processing Record 348 | lamu\n",
      "Processing Record 349 | olafsvik\n",
      "Processing Record 350 | sawakin\n",
      "Processing Record 351 | negotin\n",
      "Processing Record 352 | sol-iletsk\n",
      "Processing Record 353 | erbaa\n",
      "Processing Record 354 | luanda\n",
      "Processing Record 355 | garowe\n",
      "Processing Record 356 | darnah\n",
      "Processing Record 357 | inta\n",
      "Processing Record 358 | kampot\n",
      "Processing Record 359 | faya\n",
      "Processing Record 360 | gobabis\n",
      "Processing Record 361 | udachnyy\n",
      "Processing Record 362 | richards bay\n",
      "Processing Record 363 | taseyevo\n",
      "Processing Record 364 | valdez\n",
      "Processing Record 365 | imbituba\n",
      "Processing Record 366 | majene\n",
      "Processing Record 367 | puerto escondido\n",
      "Processing Record 368 | edewecht\n",
      "Processing Record 369 | yambio\n",
      "Processing Record 370 | usinsk\n",
      "Processing Record 371 | sur\n",
      "Processing Record 372 | konstantinovsk\n",
      "Processing Record 373 | murmashi\n",
      "Processing Record 374 | acapulco\n",
      "Processing Record 375 | tsogni\n",
      "Processing Record 376 | viedma\n",
      "Processing Record 377 | progreso\n",
      "Processing Record 378 | kamenka\n",
      "Processing Record 379 | tshikapa\n",
      "Processing Record 380 | belaya gora\n",
      "Processing Record 381 | ballitoville\n",
      "Processing Record 382 | am timan\n",
      "Processing Record 383 | mahibadhoo\n",
      "Processing Record 384 | fuxin\n",
      "Processing Record 385 | solnechnyy\n",
      "Processing Record 386 | shar\n",
      "Processing Record 387 | quatre cocos\n",
      "Processing Record 388 | gazojak\n",
      "Processing Record 389 | mamallapuram\n",
      "Processing Record 390 | pevek\n",
      "Processing Record 391 | kidal\n",
      "Processing Record 392 | goundam\n",
      "Processing Record 393 | ust-maya\n",
      "Processing Record 394 | saldanha\n",
      "Processing Record 395 | shimoda\n",
      "Processing Record 396 | husavik\n",
      "Processing Record 397 | shipunovo\n",
      "Processing Record 398 | ribeira brava\n",
      "Processing Record 399 | muli\n",
      "Processing Record 400 | novosheshminsk\n",
      "Processing Record 401 | srednekolymsk\n",
      "Processing Record 402 | saurimo\n",
      "Processing Record 403 | sinnamary\n",
      "Processing Record 404 | khlong luang\n",
      "Processing Record 405 | verkh-chebula\n",
      "Processing Record 406 | thaba-tseka\n",
      "Processing Record 407 | bocas del toro\n",
      "Processing Record 408 | manavalakurichi\n",
      "Processing Record 409 | porto torres\n",
      "Processing Record 410 | de-kastri\n",
      "Processing Record 411 | seoul\n",
      "Processing Record 412 | naze\n",
      "Processing Record 413 | cherepanovo\n",
      "Processing Record 414 | cuajinicuilapa\n",
      "Processing Record 415 | bulaevo\n",
      "Processing Record 416 | burns lake\n",
      "Processing Record 417 | ajaccio\n",
      "Processing Record 418 | hearst\n",
      "Processing Record 419 | kourou\n",
      "Processing Record 420 | havelock\n",
      "Processing Record 421 | belyy yar\n",
      "Processing Record 422 | barroso\n",
      "Processing Record 423 | huainan\n",
      "Processing Record 424 | lebu\n",
      "Processing Record 425 | podgornoye\n",
      "Processing Record 426 | victor harbor\n",
      "Processing Record 427 | nuuk\n",
      "Processing Record 428 | san antonio del norte\n",
      "Processing Record 429 | fort-shevchenko\n",
      "Processing Record 430 | araguaina\n",
      "Processing Record 431 | paita\n",
      "Processing Record 432 | berbera\n",
      "Processing Record 433 | toba tek singh\n",
      "Processing Record 434 | san quintin\n",
      "Processing Record 435 | zaysan\n",
      "Processing Record 436 | mian channun\n",
      "Processing Record 437 | hays\n",
      "Processing Record 438 | porto novo\n",
      "Processing Record 439 | durban\n",
      "Processing Record 440 | saint-paul\n",
      "Processing Record 441 | puerto narino\n",
      "Processing Record 442 | tolmachevo\n",
      "Processing Record 443 | amahai\n",
      "Processing Record 444 | iberia\n",
      "Processing Record 445 | ninh binh\n",
      "Processing Record 446 | valera\n",
      "Processing Record 447 | anori\n",
      "Processing Record 448 | kaeo\n",
      "Processing Record 449 | svetlyy\n",
      "Processing Record 450 | sola\n",
      "Processing Record 451 | atasu\n",
      "Processing Record 452 | antofagasta\n",
      "Processing Record 453 | havoysund\n",
      "Processing Record 454 | khuzhir\n",
      "Processing Record 455 | rodez\n",
      "Processing Record 456 | sayan\n",
      "Processing Record 457 | tautira\n",
      "Processing Record 458 | paramonga\n",
      "Processing Record 459 | luzilandia\n",
      "Processing Record 460 | naftalan\n",
      "Processing Record 461 | meadow lake\n",
      "Processing Record 462 | rock springs\n",
      "Processing Record 463 | vestmannaeyjar\n",
      "Processing Record 464 | lapua\n",
      "Processing Record 465 | florianopolis\n",
      "Processing Record 466 | kutum\n",
      "Processing Record 467 | dingle\n",
      "Processing Record 468 | chapleau\n",
      "Processing Record 469 | la libertad\n",
      "Processing Record 470 | banda aceh\n",
      "Processing Record 471 | san matias\n",
      "Processing Record 472 | bilma\n",
      "Processing Record 473 | alofi\n",
      "Processing Record 474 | asyut\n",
      "Processing Record 475 | sorong\n",
      "Processing Record 476 | maniitsoq\n",
      "Processing Record 477 | dubbo\n",
      "Processing Record 478 | eyrarbakki\n",
      "Processing Record 479 | khuzdar\n",
      "Processing Record 480 | saint-marc-des-carrieres\n",
      "Processing Record 481 | potsdam\n",
      "Processing Record 482 | labuhan\n",
      "Processing Record 483 | tambo grande\n",
      "Processing Record 484 | kikwit\n",
      "Processing Record 485 | anloga\n",
      "Processing Record 486 | la macarena\n",
      "Processing Record 487 | guiratinga\n",
      "Processing Record 488 | mount isa\n",
      "Processing Record 489 | la palma\n",
      "Processing Record 490 | parit buntar\n",
      "Processing Record 491 | praia\n",
      "Processing Record 492 | altay\n",
      "Processing Record 493 | muzhi\n",
      "Processing Record 494 | eureka\n",
      "Processing Record 495 | kenai\n",
      "Processing Record 496 | mandali\n",
      "Processing Record 497 | yongan\n",
      "Processing Record 498 | sohag\n"
     ]
    },
    {
     "name": "stdout",
     "output_type": "stream",
     "text": [
      "Processing Record 499 | yerbogachen\n",
      "Processing Record 500 | oriximina\n",
      "Processing Record 501 | san andres\n",
      "Processing Record 502 | hermosillo\n",
      "Processing Record 503 | matagami\n",
      "Processing Record 504 | camacha\n",
      "Processing Record 505 | cayenne\n",
      "Processing Record 506 | goderich\n",
      "Processing Record 507 | sandwick\n",
      "Processing Record 508 | kassala\n",
      "Processing Record 509 | port-gentil\n",
      "Processing Record 510 | umm kaddadah\n",
      "Processing Record 511 | bud\n",
      "Processing Record 512 | glinka\n",
      "Processing Record 513 | ciudad bolivar\n",
      "Processing Record 514 | salur\n",
      "Processing Record 515 | poum\n",
      "Processing Record 516 | labytnangi\n",
      "Processing Record 517 | south river\n",
      "Processing Record 518 | nguru\n",
      "Processing Record 519 | belaya kalitva\n",
      "Processing Record 520 | cabedelo\n",
      "Processing Record 521 | dogondoutchi\n",
      "Processing Record 522 | salinopolis\n",
      "Processing Record 523 | gazanjyk\n",
      "Processing Record 524 | kharar\n",
      "Processing Record 525 | champerico\n",
      "Processing Record 526 | kieta\n",
      "Processing Record 527 | nioro\n",
      "Processing Record 528 | peace river\n",
      "Processing Record 529 | maarianhamina\n",
      "Processing Record 530 | hami\n",
      "Processing Record 531 | adrar\n",
      "Processing Record 532 | lavrentiya\n",
      "Processing Record 533 | tupik\n",
      "Processing Record 534 | ushtobe\n",
      "Processing Record 535 | san giovanni rotondo\n",
      "Processing Record 536 | shirokiy\n",
      "Processing Record 537 | leirvik\n",
      "Processing Record 538 | alyangula\n"
     ]
    }
   ],
   "source": [
    "city_count = 0\n",
    "cities_list = []\n",
    "lon = []\n",
    "lat = []\n",
    "max_temp = []\n",
    "hum = []\n",
    "cloudiness = []\n",
    "wind_speed = []\n",
    "country = []\n",
    "date = []\n",
    "\n",
    "for city in cities:\n",
    "    url = \"http://api.openweathermap.org/data/2.5/weather?q=\" + city + \"&appid=\" + weather_api_key + \"&units=imperial\"\n",
    "    result = requests.get(url)\n",
    "    json = result.json()\n",
    "    try:\n",
    "        lon.append(json['coord']['lon'])\n",
    "        lat.append(json['coord']['lat'])\n",
    "        max_temp.append(json['main']['temp_max'])\n",
    "        hum.append(json['main']['humidity'])\n",
    "        cloudiness.append(json['clouds']['all'])\n",
    "        wind_speed.append(json['wind']['speed'])\n",
    "        country.append(json['sys']['country'])\n",
    "        date.append(json['dt'])\n",
    "        cities_list.append(city)\n",
    "        city_count += 1\n",
    "        print(f\"Processing Record {city_count} | {city}\")\n",
    "    except:\n",
    "        pass"
   ]
  },
  {
   "cell_type": "markdown",
   "metadata": {},
   "source": [
    "### Convert Raw Data to DataFrame\n",
    "* Export the city data into a .csv.\n",
    "* Display the DataFrame"
   ]
  },
  {
   "cell_type": "code",
   "execution_count": 4,
   "metadata": {},
   "outputs": [
    {
     "data": {
      "text/html": [
       "<div>\n",
       "<style scoped>\n",
       "    .dataframe tbody tr th:only-of-type {\n",
       "        vertical-align: middle;\n",
       "    }\n",
       "\n",
       "    .dataframe tbody tr th {\n",
       "        vertical-align: top;\n",
       "    }\n",
       "\n",
       "    .dataframe thead th {\n",
       "        text-align: right;\n",
       "    }\n",
       "</style>\n",
       "<table border=\"1\" class=\"dataframe\">\n",
       "  <thead>\n",
       "    <tr style=\"text-align: right;\">\n",
       "      <th></th>\n",
       "      <th>City</th>\n",
       "      <th>Lat</th>\n",
       "      <th>Lng</th>\n",
       "      <th>Max Temp</th>\n",
       "      <th>Humidity</th>\n",
       "      <th>Cloudiness</th>\n",
       "      <th>Wind Speed</th>\n",
       "      <th>Country</th>\n",
       "      <th>Date</th>\n",
       "    </tr>\n",
       "  </thead>\n",
       "  <tbody>\n",
       "    <tr>\n",
       "      <th>0</th>\n",
       "      <td>the valley</td>\n",
       "      <td>18.22</td>\n",
       "      <td>-63.06</td>\n",
       "      <td>87.80</td>\n",
       "      <td>58</td>\n",
       "      <td>20</td>\n",
       "      <td>17.22</td>\n",
       "      <td>AI</td>\n",
       "      <td>1595444535</td>\n",
       "    </tr>\n",
       "    <tr>\n",
       "      <th>1</th>\n",
       "      <td>coihaique</td>\n",
       "      <td>-45.58</td>\n",
       "      <td>-72.07</td>\n",
       "      <td>33.80</td>\n",
       "      <td>74</td>\n",
       "      <td>75</td>\n",
       "      <td>4.70</td>\n",
       "      <td>CL</td>\n",
       "      <td>1595445069</td>\n",
       "    </tr>\n",
       "    <tr>\n",
       "      <th>2</th>\n",
       "      <td>cape town</td>\n",
       "      <td>-33.93</td>\n",
       "      <td>18.42</td>\n",
       "      <td>57.00</td>\n",
       "      <td>93</td>\n",
       "      <td>0</td>\n",
       "      <td>8.05</td>\n",
       "      <td>ZA</td>\n",
       "      <td>1595444767</td>\n",
       "    </tr>\n",
       "    <tr>\n",
       "      <th>3</th>\n",
       "      <td>hermanus</td>\n",
       "      <td>-34.42</td>\n",
       "      <td>19.23</td>\n",
       "      <td>54.00</td>\n",
       "      <td>94</td>\n",
       "      <td>0</td>\n",
       "      <td>5.37</td>\n",
       "      <td>ZA</td>\n",
       "      <td>1595445072</td>\n",
       "    </tr>\n",
       "    <tr>\n",
       "      <th>4</th>\n",
       "      <td>thompson</td>\n",
       "      <td>55.74</td>\n",
       "      <td>-97.86</td>\n",
       "      <td>78.80</td>\n",
       "      <td>47</td>\n",
       "      <td>75</td>\n",
       "      <td>9.17</td>\n",
       "      <td>CA</td>\n",
       "      <td>1595445066</td>\n",
       "    </tr>\n",
       "    <tr>\n",
       "      <th>...</th>\n",
       "      <td>...</td>\n",
       "      <td>...</td>\n",
       "      <td>...</td>\n",
       "      <td>...</td>\n",
       "      <td>...</td>\n",
       "      <td>...</td>\n",
       "      <td>...</td>\n",
       "      <td>...</td>\n",
       "      <td>...</td>\n",
       "    </tr>\n",
       "    <tr>\n",
       "      <th>533</th>\n",
       "      <td>ushtobe</td>\n",
       "      <td>45.25</td>\n",
       "      <td>77.98</td>\n",
       "      <td>72.50</td>\n",
       "      <td>45</td>\n",
       "      <td>0</td>\n",
       "      <td>8.72</td>\n",
       "      <td>KZ</td>\n",
       "      <td>1595445388</td>\n",
       "    </tr>\n",
       "    <tr>\n",
       "      <th>534</th>\n",
       "      <td>san giovanni rotondo</td>\n",
       "      <td>41.70</td>\n",
       "      <td>15.72</td>\n",
       "      <td>84.20</td>\n",
       "      <td>45</td>\n",
       "      <td>5</td>\n",
       "      <td>10.29</td>\n",
       "      <td>IT</td>\n",
       "      <td>1595445388</td>\n",
       "    </tr>\n",
       "    <tr>\n",
       "      <th>535</th>\n",
       "      <td>shirokiy</td>\n",
       "      <td>49.76</td>\n",
       "      <td>129.52</td>\n",
       "      <td>61.34</td>\n",
       "      <td>86</td>\n",
       "      <td>100</td>\n",
       "      <td>4.38</td>\n",
       "      <td>RU</td>\n",
       "      <td>1595445388</td>\n",
       "    </tr>\n",
       "    <tr>\n",
       "      <th>536</th>\n",
       "      <td>leirvik</td>\n",
       "      <td>59.78</td>\n",
       "      <td>5.50</td>\n",
       "      <td>60.01</td>\n",
       "      <td>69</td>\n",
       "      <td>25</td>\n",
       "      <td>1.99</td>\n",
       "      <td>NO</td>\n",
       "      <td>1595445388</td>\n",
       "    </tr>\n",
       "    <tr>\n",
       "      <th>537</th>\n",
       "      <td>alyangula</td>\n",
       "      <td>-13.85</td>\n",
       "      <td>136.42</td>\n",
       "      <td>59.00</td>\n",
       "      <td>93</td>\n",
       "      <td>0</td>\n",
       "      <td>8.81</td>\n",
       "      <td>AU</td>\n",
       "      <td>1595445091</td>\n",
       "    </tr>\n",
       "  </tbody>\n",
       "</table>\n",
       "<p>538 rows × 9 columns</p>\n",
       "</div>"
      ],
      "text/plain": [
       "                     City    Lat     Lng  Max Temp  Humidity  Cloudiness  \\\n",
       "0              the valley  18.22  -63.06     87.80        58          20   \n",
       "1               coihaique -45.58  -72.07     33.80        74          75   \n",
       "2               cape town -33.93   18.42     57.00        93           0   \n",
       "3                hermanus -34.42   19.23     54.00        94           0   \n",
       "4                thompson  55.74  -97.86     78.80        47          75   \n",
       "..                    ...    ...     ...       ...       ...         ...   \n",
       "533               ushtobe  45.25   77.98     72.50        45           0   \n",
       "534  san giovanni rotondo  41.70   15.72     84.20        45           5   \n",
       "535              shirokiy  49.76  129.52     61.34        86         100   \n",
       "536               leirvik  59.78    5.50     60.01        69          25   \n",
       "537             alyangula -13.85  136.42     59.00        93           0   \n",
       "\n",
       "     Wind Speed Country        Date  \n",
       "0         17.22      AI  1595444535  \n",
       "1          4.70      CL  1595445069  \n",
       "2          8.05      ZA  1595444767  \n",
       "3          5.37      ZA  1595445072  \n",
       "4          9.17      CA  1595445066  \n",
       "..          ...     ...         ...  \n",
       "533        8.72      KZ  1595445388  \n",
       "534       10.29      IT  1595445388  \n",
       "535        4.38      RU  1595445388  \n",
       "536        1.99      NO  1595445388  \n",
       "537        8.81      AU  1595445091  \n",
       "\n",
       "[538 rows x 9 columns]"
      ]
     },
     "execution_count": 4,
     "metadata": {},
     "output_type": "execute_result"
    }
   ],
   "source": [
    "city_data_df = pd.DataFrame({\n",
    "    \"City\": cities_list,\n",
    "    \"Lat\": lat,\n",
    "    \"Lng\": lon,\n",
    "    \"Max Temp\": max_temp,\n",
    "    \"Humidity\": hum,\n",
    "    \"Cloudiness\": cloudiness,\n",
    "    \"Wind Speed\": wind_speed,\n",
    "    \"Country\": country,\n",
    "    \"Date\": date\n",
    "})\n",
    "\n",
    "city_data_df.to_csv(r'city_data.csv', index = False)\n",
    "\n",
    "city_data_df"
   ]
  },
  {
   "cell_type": "markdown",
   "metadata": {},
   "source": [
    "## Inspect the data and remove the cities where the humidity > 100%.\n",
    "----\n",
    "Skip this step if there are no cities that have humidity > 100%. "
   ]
  },
  {
   "cell_type": "code",
   "execution_count": 5,
   "metadata": {},
   "outputs": [
    {
     "data": {
      "text/html": [
       "<div>\n",
       "<style scoped>\n",
       "    .dataframe tbody tr th:only-of-type {\n",
       "        vertical-align: middle;\n",
       "    }\n",
       "\n",
       "    .dataframe tbody tr th {\n",
       "        vertical-align: top;\n",
       "    }\n",
       "\n",
       "    .dataframe thead th {\n",
       "        text-align: right;\n",
       "    }\n",
       "</style>\n",
       "<table border=\"1\" class=\"dataframe\">\n",
       "  <thead>\n",
       "    <tr style=\"text-align: right;\">\n",
       "      <th></th>\n",
       "      <th>City</th>\n",
       "      <th>Lat</th>\n",
       "      <th>Lng</th>\n",
       "      <th>Max Temp</th>\n",
       "      <th>Humidity</th>\n",
       "      <th>Cloudiness</th>\n",
       "      <th>Wind Speed</th>\n",
       "      <th>Country</th>\n",
       "      <th>Date</th>\n",
       "    </tr>\n",
       "  </thead>\n",
       "  <tbody>\n",
       "  </tbody>\n",
       "</table>\n",
       "</div>"
      ],
      "text/plain": [
       "Empty DataFrame\n",
       "Columns: [City, Lat, Lng, Max Temp, Humidity, Cloudiness, Wind Speed, Country, Date]\n",
       "Index: []"
      ]
     },
     "execution_count": 5,
     "metadata": {},
     "output_type": "execute_result"
    }
   ],
   "source": [
    "#  Get the indices of cities that have humidity over 100%.\n",
    "hum_filter = city_data_df['Humidity'] > 100\n",
    "hum_outliers = city_data_df[hum_filter]\n",
    "hum_outliers"
   ]
  },
  {
   "cell_type": "code",
   "execution_count": 6,
   "metadata": {},
   "outputs": [
    {
     "data": {
      "text/html": [
       "<div>\n",
       "<style scoped>\n",
       "    .dataframe tbody tr th:only-of-type {\n",
       "        vertical-align: middle;\n",
       "    }\n",
       "\n",
       "    .dataframe tbody tr th {\n",
       "        vertical-align: top;\n",
       "    }\n",
       "\n",
       "    .dataframe thead th {\n",
       "        text-align: right;\n",
       "    }\n",
       "</style>\n",
       "<table border=\"1\" class=\"dataframe\">\n",
       "  <thead>\n",
       "    <tr style=\"text-align: right;\">\n",
       "      <th></th>\n",
       "      <th>City</th>\n",
       "      <th>Lat</th>\n",
       "      <th>Lng</th>\n",
       "      <th>Max Temp</th>\n",
       "      <th>Humidity</th>\n",
       "      <th>Cloudiness</th>\n",
       "      <th>Wind Speed</th>\n",
       "      <th>Country</th>\n",
       "      <th>Date</th>\n",
       "    </tr>\n",
       "  </thead>\n",
       "  <tbody>\n",
       "    <tr>\n",
       "      <th>0</th>\n",
       "      <td>the valley</td>\n",
       "      <td>18.22</td>\n",
       "      <td>-63.06</td>\n",
       "      <td>87.80</td>\n",
       "      <td>58</td>\n",
       "      <td>20</td>\n",
       "      <td>17.22</td>\n",
       "      <td>AI</td>\n",
       "      <td>1595444535</td>\n",
       "    </tr>\n",
       "    <tr>\n",
       "      <th>1</th>\n",
       "      <td>coihaique</td>\n",
       "      <td>-45.58</td>\n",
       "      <td>-72.07</td>\n",
       "      <td>33.80</td>\n",
       "      <td>74</td>\n",
       "      <td>75</td>\n",
       "      <td>4.70</td>\n",
       "      <td>CL</td>\n",
       "      <td>1595445069</td>\n",
       "    </tr>\n",
       "    <tr>\n",
       "      <th>2</th>\n",
       "      <td>cape town</td>\n",
       "      <td>-33.93</td>\n",
       "      <td>18.42</td>\n",
       "      <td>57.00</td>\n",
       "      <td>93</td>\n",
       "      <td>0</td>\n",
       "      <td>8.05</td>\n",
       "      <td>ZA</td>\n",
       "      <td>1595444767</td>\n",
       "    </tr>\n",
       "    <tr>\n",
       "      <th>3</th>\n",
       "      <td>hermanus</td>\n",
       "      <td>-34.42</td>\n",
       "      <td>19.23</td>\n",
       "      <td>54.00</td>\n",
       "      <td>94</td>\n",
       "      <td>0</td>\n",
       "      <td>5.37</td>\n",
       "      <td>ZA</td>\n",
       "      <td>1595445072</td>\n",
       "    </tr>\n",
       "    <tr>\n",
       "      <th>4</th>\n",
       "      <td>thompson</td>\n",
       "      <td>55.74</td>\n",
       "      <td>-97.86</td>\n",
       "      <td>78.80</td>\n",
       "      <td>47</td>\n",
       "      <td>75</td>\n",
       "      <td>9.17</td>\n",
       "      <td>CA</td>\n",
       "      <td>1595445066</td>\n",
       "    </tr>\n",
       "    <tr>\n",
       "      <th>...</th>\n",
       "      <td>...</td>\n",
       "      <td>...</td>\n",
       "      <td>...</td>\n",
       "      <td>...</td>\n",
       "      <td>...</td>\n",
       "      <td>...</td>\n",
       "      <td>...</td>\n",
       "      <td>...</td>\n",
       "      <td>...</td>\n",
       "    </tr>\n",
       "    <tr>\n",
       "      <th>533</th>\n",
       "      <td>ushtobe</td>\n",
       "      <td>45.25</td>\n",
       "      <td>77.98</td>\n",
       "      <td>72.50</td>\n",
       "      <td>45</td>\n",
       "      <td>0</td>\n",
       "      <td>8.72</td>\n",
       "      <td>KZ</td>\n",
       "      <td>1595445388</td>\n",
       "    </tr>\n",
       "    <tr>\n",
       "      <th>534</th>\n",
       "      <td>san giovanni rotondo</td>\n",
       "      <td>41.70</td>\n",
       "      <td>15.72</td>\n",
       "      <td>84.20</td>\n",
       "      <td>45</td>\n",
       "      <td>5</td>\n",
       "      <td>10.29</td>\n",
       "      <td>IT</td>\n",
       "      <td>1595445388</td>\n",
       "    </tr>\n",
       "    <tr>\n",
       "      <th>535</th>\n",
       "      <td>shirokiy</td>\n",
       "      <td>49.76</td>\n",
       "      <td>129.52</td>\n",
       "      <td>61.34</td>\n",
       "      <td>86</td>\n",
       "      <td>100</td>\n",
       "      <td>4.38</td>\n",
       "      <td>RU</td>\n",
       "      <td>1595445388</td>\n",
       "    </tr>\n",
       "    <tr>\n",
       "      <th>536</th>\n",
       "      <td>leirvik</td>\n",
       "      <td>59.78</td>\n",
       "      <td>5.50</td>\n",
       "      <td>60.01</td>\n",
       "      <td>69</td>\n",
       "      <td>25</td>\n",
       "      <td>1.99</td>\n",
       "      <td>NO</td>\n",
       "      <td>1595445388</td>\n",
       "    </tr>\n",
       "    <tr>\n",
       "      <th>537</th>\n",
       "      <td>alyangula</td>\n",
       "      <td>-13.85</td>\n",
       "      <td>136.42</td>\n",
       "      <td>59.00</td>\n",
       "      <td>93</td>\n",
       "      <td>0</td>\n",
       "      <td>8.81</td>\n",
       "      <td>AU</td>\n",
       "      <td>1595445091</td>\n",
       "    </tr>\n",
       "  </tbody>\n",
       "</table>\n",
       "<p>538 rows × 9 columns</p>\n",
       "</div>"
      ],
      "text/plain": [
       "                     City    Lat     Lng  Max Temp  Humidity  Cloudiness  \\\n",
       "0              the valley  18.22  -63.06     87.80        58          20   \n",
       "1               coihaique -45.58  -72.07     33.80        74          75   \n",
       "2               cape town -33.93   18.42     57.00        93           0   \n",
       "3                hermanus -34.42   19.23     54.00        94           0   \n",
       "4                thompson  55.74  -97.86     78.80        47          75   \n",
       "..                    ...    ...     ...       ...       ...         ...   \n",
       "533               ushtobe  45.25   77.98     72.50        45           0   \n",
       "534  san giovanni rotondo  41.70   15.72     84.20        45           5   \n",
       "535              shirokiy  49.76  129.52     61.34        86         100   \n",
       "536               leirvik  59.78    5.50     60.01        69          25   \n",
       "537             alyangula -13.85  136.42     59.00        93           0   \n",
       "\n",
       "     Wind Speed Country        Date  \n",
       "0         17.22      AI  1595444535  \n",
       "1          4.70      CL  1595445069  \n",
       "2          8.05      ZA  1595444767  \n",
       "3          5.37      ZA  1595445072  \n",
       "4          9.17      CA  1595445066  \n",
       "..          ...     ...         ...  \n",
       "533        8.72      KZ  1595445388  \n",
       "534       10.29      IT  1595445388  \n",
       "535        4.38      RU  1595445388  \n",
       "536        1.99      NO  1595445388  \n",
       "537        8.81      AU  1595445091  \n",
       "\n",
       "[538 rows x 9 columns]"
      ]
     },
     "execution_count": 6,
     "metadata": {},
     "output_type": "execute_result"
    }
   ],
   "source": [
    "# Make a new DataFrame equal to the city data to drop all humidity outliers by index.\n",
    "# Passing \"inplace=False\" will make a copy of the city_data DataFrame, which we call \"clean_city_data\".\n",
    "clean_city_data_df = city_data_df.drop(hum_outliers.index, inplace = False) \n",
    "\n",
    "clean_city_data_df"
   ]
  },
  {
   "cell_type": "code",
   "execution_count": 7,
   "metadata": {},
   "outputs": [],
   "source": [
    "# Extract relevant fields from the data frame\n",
    "\n",
    "\n",
    "# Export the City_Data into a csv\n",
    "clean_city_data_df.to_csv(r'clean_city_data.csv', index = False)"
   ]
  },
  {
   "cell_type": "markdown",
   "metadata": {},
   "source": [
    "## Plotting the Data\n",
    "* Use proper labeling of the plots using plot titles (including date of analysis) and axes labels.\n",
    "* Save the plotted figures as .pngs."
   ]
  },
  {
   "cell_type": "markdown",
   "metadata": {},
   "source": [
    "## Latitude vs. Temperature Plot"
   ]
  },
  {
   "cell_type": "code",
   "execution_count": 18,
   "metadata": {
    "scrolled": true
   },
   "outputs": [
    {
     "data": {
      "text/plain": [
       "Text(0, 0.5, 'Max Temperature (F)')"
      ]
     },
     "execution_count": 18,
     "metadata": {},
     "output_type": "execute_result"
    },
    {
     "data": {
      "image/png": "[encoded data removed]",
      "text/plain": [
       "<Figure size 432x288 with 1 Axes>"
      ]
     },
     "metadata": {
      "needs_background": "light"
     },
     "output_type": "display_data"
    }
   ],
   "source": [
    "plt.scatter(lat, max_temp)\n",
    "plt.title(\"City Latitude vs. Max Temperature (F)\")\n",
    "plt.xlabel(\"City Latitude\")\n",
    "plt.ylabel(\"Max Temperature (F)\")"
   ]
  },
  {
   "cell_type": "markdown",
   "metadata": {},
   "source": [
    "## Latitude vs. Humidity Plot"
   ]
  },
  {
   "cell_type": "code",
   "execution_count": 19,
   "metadata": {},
   "outputs": [
    {
     "data": {
      "text/plain": [
       "Text(0, 0.5, 'Humidity %')"
      ]
     },
     "execution_count": 19,
     "metadata": {},
     "output_type": "execute_result"
    },
    {
     "data": {
      "image/png": "[encoded data removed]",
      "text/plain": [
       "<Figure size 432x288 with 1 Axes>"
      ]
     },
     "metadata": {
      "needs_background": "light"
     },
     "output_type": "display_data"
    }
   ],
   "source": [
    "plt.scatter(lat, hum)\n",
    "plt.title(\"City Latitude vs. Humidity %\")\n",
    "plt.xlabel(\"City Latitude\")\n",
    "plt.ylabel(\"Humidity %\")"
   ]
  },
  {
   "cell_type": "markdown",
   "metadata": {},
   "source": [
    "## Latitude vs. Cloudiness Plot"
   ]
  },
  {
   "cell_type": "code",
   "execution_count": 20,
   "metadata": {},
   "outputs": [
    {
     "data": {
      "text/plain": [
       "Text(0, 0.5, 'Cloudiness')"
      ]
     },
     "execution_count": 20,
     "metadata": {},
     "output_type": "execute_result"
    },
    {
     "data": {
      "image/png": "[encoded data removed]",
      "text/plain": [
       "<Figure size 432x288 with 1 Axes>"
      ]
     },
     "metadata": {
      "needs_background": "light"
     },
     "output_type": "display_data"
    }
   ],
   "source": [
    "plt.scatter(lat, cloudiness)\n",
    "plt.title(\"City Latitude vs. Cloudiness\")\n",
    "plt.xlabel(\"City Latitude\")\n",
    "plt.ylabel(\"Cloudiness\")"
   ]
  },
  {
   "cell_type": "markdown",
   "metadata": {},
   "source": [
    "## Latitude vs. Wind Speed Plot"
   ]
  },
  {
   "cell_type": "code",
   "execution_count": 21,
   "metadata": {},
   "outputs": [
    {
     "data": {
      "text/plain": [
       "Text(0, 0.5, 'Wind Speed')"
      ]
     },
     "execution_count": 21,
     "metadata": {},
     "output_type": "execute_result"
    },
    {
     "data": {
      "image/png": "[encoded data removed]",
      "text/plain": [
       "<Figure size 432x288 with 1 Axes>"
      ]
     },
     "metadata": {
      "needs_background": "light"
     },
     "output_type": "display_data"
    }
   ],
   "source": [
    "plt.scatter(lat, wind_speed)\n",
    "plt.title(\"City Latitude vs. Wind Speed\")\n",
    "plt.xlabel(\"City Latitude\")\n",
    "plt.ylabel(\"Wind Speed\")"
   ]
  },
  {
   "cell_type": "markdown",
   "metadata": {},
   "source": [
    "## Linear Regression"
   ]
  },
  {
   "cell_type": "code",
   "execution_count": 8,
   "metadata": {},
   "outputs": [],
   "source": [
    "# OPTIONAL: Create a function to create Linear Regression plots"
   ]
  },
  {
   "cell_type": "code",
   "execution_count": 24,
   "metadata": {},
   "outputs": [
    {
     "data": {
      "text/html": [
       "<div>\n",
       "<style scoped>\n",
       "    .dataframe tbody tr th:only-of-type {\n",
       "        vertical-align: middle;\n",
       "    }\n",
       "\n",
       "    .dataframe tbody tr th {\n",
       "        vertical-align: top;\n",
       "    }\n",
       "\n",
       "    .dataframe thead th {\n",
       "        text-align: right;\n",
       "    }\n",
       "</style>\n",
       "<table border=\"1\" class=\"dataframe\">\n",
       "  <thead>\n",
       "    <tr style=\"text-align: right;\">\n",
       "      <th></th>\n",
       "      <th>City</th>\n",
       "      <th>Lat</th>\n",
       "      <th>Lng</th>\n",
       "      <th>Max Temp</th>\n",
       "      <th>Humidity</th>\n",
       "      <th>Cloudiness</th>\n",
       "      <th>Wind Speed</th>\n",
       "      <th>Country</th>\n",
       "      <th>Date</th>\n",
       "    </tr>\n",
       "  </thead>\n",
       "  <tbody>\n",
       "    <tr>\n",
       "      <th>0</th>\n",
       "      <td>the valley</td>\n",
       "      <td>18.22</td>\n",
       "      <td>-63.06</td>\n",
       "      <td>87.80</td>\n",
       "      <td>58</td>\n",
       "      <td>20</td>\n",
       "      <td>17.22</td>\n",
       "      <td>AI</td>\n",
       "      <td>1595444535</td>\n",
       "    </tr>\n",
       "    <tr>\n",
       "      <th>4</th>\n",
       "      <td>thompson</td>\n",
       "      <td>55.74</td>\n",
       "      <td>-97.86</td>\n",
       "      <td>78.80</td>\n",
       "      <td>47</td>\n",
       "      <td>75</td>\n",
       "      <td>9.17</td>\n",
       "      <td>CA</td>\n",
       "      <td>1595445066</td>\n",
       "    </tr>\n",
       "    <tr>\n",
       "      <th>5</th>\n",
       "      <td>creel</td>\n",
       "      <td>27.75</td>\n",
       "      <td>-107.63</td>\n",
       "      <td>70.97</td>\n",
       "      <td>47</td>\n",
       "      <td>100</td>\n",
       "      <td>5.28</td>\n",
       "      <td>MX</td>\n",
       "      <td>1595445308</td>\n",
       "    </tr>\n",
       "    <tr>\n",
       "      <th>6</th>\n",
       "      <td>dhidhdhoo</td>\n",
       "      <td>6.88</td>\n",
       "      <td>73.10</td>\n",
       "      <td>82.38</td>\n",
       "      <td>78</td>\n",
       "      <td>100</td>\n",
       "      <td>15.52</td>\n",
       "      <td>MV</td>\n",
       "      <td>1595445308</td>\n",
       "    </tr>\n",
       "    <tr>\n",
       "      <th>7</th>\n",
       "      <td>provideniya</td>\n",
       "      <td>64.38</td>\n",
       "      <td>-173.30</td>\n",
       "      <td>53.31</td>\n",
       "      <td>59</td>\n",
       "      <td>0</td>\n",
       "      <td>5.08</td>\n",
       "      <td>RU</td>\n",
       "      <td>1595444902</td>\n",
       "    </tr>\n",
       "    <tr>\n",
       "      <th>...</th>\n",
       "      <td>...</td>\n",
       "      <td>...</td>\n",
       "      <td>...</td>\n",
       "      <td>...</td>\n",
       "      <td>...</td>\n",
       "      <td>...</td>\n",
       "      <td>...</td>\n",
       "      <td>...</td>\n",
       "      <td>...</td>\n",
       "    </tr>\n",
       "    <tr>\n",
       "      <th>532</th>\n",
       "      <td>tupik</td>\n",
       "      <td>54.43</td>\n",
       "      <td>119.93</td>\n",
       "      <td>57.70</td>\n",
       "      <td>78</td>\n",
       "      <td>100</td>\n",
       "      <td>3.04</td>\n",
       "      <td>RU</td>\n",
       "      <td>1595445387</td>\n",
       "    </tr>\n",
       "    <tr>\n",
       "      <th>533</th>\n",
       "      <td>ushtobe</td>\n",
       "      <td>45.25</td>\n",
       "      <td>77.98</td>\n",
       "      <td>72.50</td>\n",
       "      <td>45</td>\n",
       "      <td>0</td>\n",
       "      <td>8.72</td>\n",
       "      <td>KZ</td>\n",
       "      <td>1595445388</td>\n",
       "    </tr>\n",
       "    <tr>\n",
       "      <th>534</th>\n",
       "      <td>san giovanni rotondo</td>\n",
       "      <td>41.70</td>\n",
       "      <td>15.72</td>\n",
       "      <td>84.20</td>\n",
       "      <td>45</td>\n",
       "      <td>5</td>\n",
       "      <td>10.29</td>\n",
       "      <td>IT</td>\n",
       "      <td>1595445388</td>\n",
       "    </tr>\n",
       "    <tr>\n",
       "      <th>535</th>\n",
       "      <td>shirokiy</td>\n",
       "      <td>49.76</td>\n",
       "      <td>129.52</td>\n",
       "      <td>61.34</td>\n",
       "      <td>86</td>\n",
       "      <td>100</td>\n",
       "      <td>4.38</td>\n",
       "      <td>RU</td>\n",
       "      <td>1595445388</td>\n",
       "    </tr>\n",
       "    <tr>\n",
       "      <th>536</th>\n",
       "      <td>leirvik</td>\n",
       "      <td>59.78</td>\n",
       "      <td>5.50</td>\n",
       "      <td>60.01</td>\n",
       "      <td>69</td>\n",
       "      <td>25</td>\n",
       "      <td>1.99</td>\n",
       "      <td>NO</td>\n",
       "      <td>1595445388</td>\n",
       "    </tr>\n",
       "  </tbody>\n",
       "</table>\n",
       "<p>374 rows × 9 columns</p>\n",
       "</div>"
      ],
      "text/plain": [
       "                     City    Lat     Lng  Max Temp  Humidity  Cloudiness  \\\n",
       "0              the valley  18.22  -63.06     87.80        58          20   \n",
       "4                thompson  55.74  -97.86     78.80        47          75   \n",
       "5                   creel  27.75 -107.63     70.97        47         100   \n",
       "6               dhidhdhoo   6.88   73.10     82.38        78         100   \n",
       "7             provideniya  64.38 -173.30     53.31        59           0   \n",
       "..                    ...    ...     ...       ...       ...         ...   \n",
       "532                 tupik  54.43  119.93     57.70        78         100   \n",
       "533               ushtobe  45.25   77.98     72.50        45           0   \n",
       "534  san giovanni rotondo  41.70   15.72     84.20        45           5   \n",
       "535              shirokiy  49.76  129.52     61.34        86         100   \n",
       "536               leirvik  59.78    5.50     60.01        69          25   \n",
       "\n",
       "     Wind Speed Country        Date  \n",
       "0         17.22      AI  1595444535  \n",
       "4          9.17      CA  1595445066  \n",
       "5          5.28      MX  1595445308  \n",
       "6         15.52      MV  1595445308  \n",
       "7          5.08      RU  1595444902  \n",
       "..          ...     ...         ...  \n",
       "532        3.04      RU  1595445387  \n",
       "533        8.72      KZ  1595445388  \n",
       "534       10.29      IT  1595445388  \n",
       "535        4.38      RU  1595445388  \n",
       "536        1.99      NO  1595445388  \n",
       "\n",
       "[374 rows x 9 columns]"
      ]
     },
     "execution_count": 24,
     "metadata": {},
     "output_type": "execute_result"
    }
   ],
   "source": [
    "# Create Northern and Southern Hemisphere DataFrames\n",
    "nh_filter = clean_city_data_df['Lat'] > 0\n",
    "sh_filter = clean_city_data_df['Lat'] < 0\n",
    "nh_df = clean_city_data_df[nh_filter]\n",
    "sh_df = clean_city_data_df[sh_filter]\n",
    "nh_df"
   ]
  },
  {
   "cell_type": "markdown",
   "metadata": {},
   "source": [
    "####  Northern Hemisphere - Max Temp vs. Latitude Linear Regression"
   ]
  },
  {
   "cell_type": "code",
   "execution_count": 60,
   "metadata": {},
   "outputs": [
    {
     "name": "stdout",
     "output_type": "stream",
     "text": [
      "The r-squared is: 0.5646627654874734\n"
     ]
    },
    {
     "data": {
      "image/png": "[encoded data removed]",
      "text/plain": [
       "<Figure size 432x288 with 1 Axes>"
      ]
     },
     "metadata": {
      "needs_background": "light"
     },
     "output_type": "display_data"
    }
   ],
   "source": [
    "val2 = nh_df['Max Temp']\n",
    "val1 = nh_df['Lat']\n",
    "\n",
    "(slope, intercept, rvalue, pvalue, stderr) = linregress(val1, val2)\n",
    "regress =  val1 * slope + intercept\n",
    "plt.scatter(val1, val2)\n",
    "plt.plot(val1, regress,'r-')\n",
    "\n",
    "correlation_matrix = np.corrcoef(val1, val2)\n",
    "correlation_xy = correlation_matrix[0,1]\n",
    "r_squared = correlation_xy**2\n",
    "\n",
    "print(f\"The r-squared is: {r_squared}\")\n",
    "\n",
    "plt.ylabel('Maximum Temperature')\n",
    "plt.xlabel('Latitude')\n",
    "plt.title('Northern Hemisphere - Max Temp vs. Latitude Linear Regression')\n",
    "plt.annotate(f\"y = {round(slope, 2)}x + {round(intercept, 2)}\", xy=(10, 50))\n",
    "plt.show()"
   ]
  },
  {
   "cell_type": "markdown",
   "metadata": {},
   "source": [
    "####  Southern Hemisphere - Max Temp vs. Latitude Linear Regression"
   ]
  },
  {
   "cell_type": "code",
   "execution_count": 63,
   "metadata": {},
   "outputs": [
    {
     "name": "stdout",
     "output_type": "stream",
     "text": [
      "The r-squared is: 0.6927258131241824\n"
     ]
    },
    {
     "data": {
      "image/png": "[encoded data removed]",
      "text/plain": [
       "<Figure size 432x288 with 1 Axes>"
      ]
     },
     "metadata": {
      "needs_background": "light"
     },
     "output_type": "display_data"
    }
   ],
   "source": [
    "val2 = sh_df['Max Temp']\n",
    "val1 = sh_df['Lat']\n",
    "\n",
    "(slope, intercept, rvalue, pvalue, stderr) = linregress(val1, val2)\n",
    "regress =  val1 * slope + intercept\n",
    "plt.scatter(val1, val2)\n",
    "plt.plot(val1, regress,'r-')\n",
    "\n",
    "correlation_matrix = np.corrcoef(val1, val2)\n",
    "correlation_xy = correlation_matrix[0,1]\n",
    "r_squared = correlation_xy**2\n",
    "\n",
    "print(f\"The r-squared is: {r_squared}\")\n",
    "\n",
    "plt.ylabel('Maximum Temperature')\n",
    "plt.xlabel('Latitude')\n",
    "plt.title('Southern Hemisphere - Max Temp vs. Latitude Linear Regression')\n",
    "plt.annotate(f\"y = {round(slope, 2)}x + {round(intercept, 2)}\", xy=(-50, 90))\n",
    "plt.show()"
   ]
  },
  {
   "cell_type": "markdown",
   "metadata": {},
   "source": [
    "####  Northern Hemisphere - Humidity (%) vs. Latitude Linear Regression"
   ]
  },
  {
   "cell_type": "code",
   "execution_count": 65,
   "metadata": {},
   "outputs": [
    {
     "name": "stdout",
     "output_type": "stream",
     "text": [
      "The r-squared is: 0.004617936804042619\n"
     ]
    },
    {
     "data": {
      "image/png": "[encoded data removed]",
      "text/plain": [
       "<Figure size 432x288 with 1 Axes>"
      ]
     },
     "metadata": {
      "needs_background": "light"
     },
     "output_type": "display_data"
    }
   ],
   "source": [
    "val2 = nh_df['Humidity']\n",
    "val1 = nh_df['Lat']\n",
    "\n",
    "(slope, intercept, rvalue, pvalue, stderr) = linregress(val1, val2)\n",
    "regress =  val1 * slope + intercept\n",
    "plt.scatter(val1, val2)\n",
    "plt.plot(val1, regress,'r-')\n",
    "\n",
    "correlation_matrix = np.corrcoef(val1, val2)\n",
    "correlation_xy = correlation_matrix[0,1]\n",
    "r_squared = correlation_xy**2\n",
    "\n",
    "print(f\"The r-squared is: {r_squared}\")\n",
    "\n",
    "plt.ylabel('Humidity (%)')\n",
    "plt.xlabel('Latitude')\n",
    "plt.title('Northern Hemisphere - Humidity (%) vs. Latitude Linear Regression')\n",
    "plt.annotate(f\"y = {round(slope, 2)}x + {round(intercept, 2)}\", xy=(50, 15))\n",
    "plt.show()"
   ]
  },
  {
   "cell_type": "markdown",
   "metadata": {},
   "source": [
    "####  Southern Hemisphere - Humidity (%) vs. Latitude Linear Regression"
   ]
  },
  {
   "cell_type": "code",
   "execution_count": 69,
   "metadata": {},
   "outputs": [
    {
     "name": "stdout",
     "output_type": "stream",
     "text": [
      "The r-squared is: 0.042950042999039914\n"
     ]
    },
    {
     "data": {
      "image/png": "[encoded data removed]",
      "text/plain": [
       "<Figure size 432x288 with 1 Axes>"
      ]
     },
     "metadata": {
      "needs_background": "light"
     },
     "output_type": "display_data"
    }
   ],
   "source": [
    "val2 = sh_df['Humidity']\n",
    "val1 = sh_df['Lat']\n",
    "\n",
    "(slope, intercept, rvalue, pvalue, stderr) = linregress(val1, val2)\n",
    "regress =  val1 * slope + intercept\n",
    "plt.scatter(val1, val2)\n",
    "plt.plot(val1, regress,'r-')\n",
    "\n",
    "correlation_matrix = np.corrcoef(val1, val2)\n",
    "correlation_xy = correlation_matrix[0,1]\n",
    "r_squared = correlation_xy**2\n",
    "\n",
    "print(f\"The r-squared is: {r_squared}\")\n",
    "\n",
    "plt.ylabel('Humidity (%)')\n",
    "plt.xlabel('Latitude')\n",
    "plt.title('Southern Hemisphere - Humidity (%) vs. Latitude Linear Regression')\n",
    "plt.annotate(f\"y = {round(slope, 2)}x + {round(intercept, 2)}\", xy=(-50, 20))\n",
    "plt.show()"
   ]
  },
  {
   "cell_type": "markdown",
   "metadata": {},
   "source": [
    "####  Northern Hemisphere - Cloudiness (%) vs. Latitude Linear Regression"
   ]
  },
  {
   "cell_type": "code",
   "execution_count": 70,
   "metadata": {},
   "outputs": [
    {
     "name": "stdout",
     "output_type": "stream",
     "text": [
      "The r-squared is: 0.0033129711710394817\n"
     ]
    },
    {
     "data": {
      "image/png": "[encoded data removed]",
      "text/plain": [
       "<Figure size 432x288 with 1 Axes>"
      ]
     },
     "metadata": {
      "needs_background": "light"
     },
     "output_type": "display_data"
    }
   ],
   "source": [
    "val2 = nh_df['Cloudiness']\n",
    "val1 = nh_df['Lat']\n",
    "\n",
    "(slope, intercept, rvalue, pvalue, stderr) = linregress(val1, val2)\n",
    "regress =  val1 * slope + intercept\n",
    "plt.scatter(val1, val2)\n",
    "plt.plot(val1, regress,'r-')\n",
    "\n",
    "correlation_matrix = np.corrcoef(val1, val2)\n",
    "correlation_xy = correlation_matrix[0,1]\n",
    "r_squared = correlation_xy**2\n",
    "\n",
    "print(f\"The r-squared is: {r_squared}\")\n",
    "\n",
    "plt.ylabel('Cloudiness (%)')\n",
    "plt.xlabel('Latitude')\n",
    "plt.title('Northern Hemisphere - Cloudiness (%) vs. Latitude Linear Regression')\n",
    "plt.annotate(f\"y = {round(slope, 2)}x + {round(intercept, 2)}\", xy=(20, 60))\n",
    "plt.show()"
   ]
  },
  {
   "cell_type": "markdown",
   "metadata": {},
   "source": [
    "####  Southern Hemisphere - Cloudiness (%) vs. Latitude Linear Regression"
   ]
  },
  {
   "cell_type": "code",
   "execution_count": 71,
   "metadata": {},
   "outputs": [
    {
     "name": "stdout",
     "output_type": "stream",
     "text": [
      "The r-squared is: 0.006340944514842022\n"
     ]
    },
    {
     "data": {
      "image/png": "[encoded data removed]",
      "text/plain": [
       "<Figure size 432x288 with 1 Axes>"
      ]
     },
     "metadata": {
      "needs_background": "light"
     },
     "output_type": "display_data"
    }
   ],
   "source": [
    "val2 = sh_df['Cloudiness']\n",
    "val1 = sh_df['Lat']\n",
    "\n",
    "(slope, intercept, rvalue, pvalue, stderr) = linregress(val1, val2)\n",
    "regress =  val1 * slope + intercept\n",
    "plt.scatter(val1, val2)\n",
    "plt.plot(val1, regress,'r-')\n",
    "\n",
    "correlation_matrix = np.corrcoef(val1, val2)\n",
    "correlation_xy = correlation_matrix[0,1]\n",
    "r_squared = correlation_xy**2\n",
    "\n",
    "print(f\"The r-squared is: {r_squared}\")\n",
    "\n",
    "plt.ylabel('Cloudiness (%)')\n",
    "plt.xlabel('Latitude')\n",
    "plt.title('Southern Hemisphere - Cloudiness (%) vs. Latitude Linear Regression')\n",
    "plt.annotate(f\"y = {round(slope, 2)}x + {round(intercept, 2)}\", xy=(-50, 20))\n",
    "plt.show()"
   ]
  },
  {
   "cell_type": "markdown",
   "metadata": {},
   "source": [
    "####  Northern Hemisphere - Wind Speed (mph) vs. Latitude Linear Regression"
   ]
  },
  {
   "cell_type": "code",
   "execution_count": 73,
   "metadata": {},
   "outputs": [
    {
     "name": "stdout",
     "output_type": "stream",
     "text": [
      "The r-squared is: 0.0025289052199049997\n"
     ]
    },
    {
     "data": {
      "image/png": "[encoded data removed]",
      "text/plain": [
       "<Figure size 432x288 with 1 Axes>"
      ]
     },
     "metadata": {
      "needs_background": "light"
     },
     "output_type": "display_data"
    }
   ],
   "source": [
    "val2 = nh_df['Wind Speed']\n",
    "val1 = nh_df['Lat']\n",
    "\n",
    "(slope, intercept, rvalue, pvalue, stderr) = linregress(val1, val2)\n",
    "regress =  val1 * slope + intercept\n",
    "plt.scatter(val1, val2)\n",
    "plt.plot(val1, regress,'r-')\n",
    "\n",
    "correlation_matrix = np.corrcoef(val1, val2)\n",
    "correlation_xy = correlation_matrix[0,1]\n",
    "r_squared = correlation_xy**2\n",
    "\n",
    "print(f\"The r-squared is: {r_squared}\")\n",
    "\n",
    "plt.ylabel('Wind Speed (MPH)')\n",
    "plt.xlabel('Latitude')\n",
    "plt.title('Northern Hemisphere - Wind Speed (mph) vs. Latitude Linear Regression')\n",
    "plt.annotate(f\"y = {round(slope, 2)}x + {round(intercept, 2)}\", xy=(20, 30))\n",
    "plt.show()"
   ]
  },
  {
   "cell_type": "markdown",
   "metadata": {},
   "source": [
    "####  Southern Hemisphere - Wind Speed (mph) vs. Latitude Linear Regression"
   ]
  },
  {
   "cell_type": "code",
   "execution_count": 75,
   "metadata": {},
   "outputs": [
    {
     "name": "stdout",
     "output_type": "stream",
     "text": [
      "The r-squared is: 0.03112525920728397\n"
     ]
    },
    {
     "data": {
      "image/png": "[encoded data removed]",
      "text/plain": [
       "<Figure size 432x288 with 1 Axes>"
      ]
     },
     "metadata": {
      "needs_background": "light"
     },
     "output_type": "display_data"
    }
   ],
   "source": [
    "val2 = sh_df['Wind Speed']\n",
    "val1 = sh_df['Lat']\n",
    "\n",
    "(slope, intercept, rvalue, pvalue, stderr) = linregress(val1, val2)\n",
    "regress =  val1 * slope + intercept\n",
    "plt.scatter(val1, val2)\n",
    "plt.plot(val1, regress,'r-')\n",
    "\n",
    "correlation_matrix = np.corrcoef(val1, val2)\n",
    "correlation_xy = correlation_matrix[0,1]\n",
    "r_squared = correlation_xy**2\n",
    "\n",
    "print(f\"The r-squared is: {r_squared}\")\n",
    "\n",
    "plt.ylabel('Wind Speed (MPH)')\n",
    "plt.xlabel('Latitude')\n",
    "plt.title('Southern Hemisphere - Wind Speed (mph) vs. Latitude Linear Regression')\n",
    "plt.annotate(f\"y = {round(slope, 2)}x + {round(intercept, 2)}\", xy=(-50, 25))\n",
    "plt.show()"
   ]
  },
  {
   "cell_type": "code",
   "execution_count": null,
   "metadata": {},
   "outputs": [],
   "source": []
  }
 ],
 "metadata": {
  "anaconda-cloud": {},
  "kernel_info": {
   "name": "python3"
  },
  "kernelspec": {
   "display_name": "Python 3",
   "language": "python",
   "name": "python3"
  },
  "language_info": {
   "codemirror_mode": {
    "name": "ipython",
    "version": 3
   },
   "file_extension": ".py",
   "mimetype": "text/x-python",
   "name": "python",
   "nbconvert_exporter": "python",
   "pygments_lexer": "ipython3",
   "version": "3.6.10"
  },
  "latex_envs": {
   "LaTeX_envs_menu_present": true,
   "autoclose": false,
   "autocomplete": true,
   "bibliofile": "biblio.bib",
   "cite_by": "apalike",
   "current_citInitial": 1,
   "eqLabelWithNumbers": true,
   "eqNumInitial": 1,
   "hotkeys": {
    "equation": "Ctrl-E",
    "itemize": "Ctrl-I"
   },
   "labels_anchors": false,
   "latex_user_defs": false,
   "report_style_numbering": false,
   "user_envs_cfg": false
  },
  "nteract": {
   "version": "0.12.3"
  }
 },
 "nbformat": 4,
 "nbformat_minor": 2
}
